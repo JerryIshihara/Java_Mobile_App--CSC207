{
 "cells": [
  {
   "cell_type": "markdown",
   "metadata": {},
   "source": [
    "# Team Contact\n",
    "\n",
    "#### Hirotaka Ishihara\n",
    "Email: hirotaka.ishihara@mail.utoronto.ca\n",
    "Phone: 647-262-9877\n",
    "\n",
    "#### Zhihao Lin\n",
    "Email: zhihao.lin@mail.utoronto.ca\n",
    "Phone: 647-675-3620\n",
    "\n",
    "#### Yu Guo\n",
    "Email: joe.guo@mail.utoronto.ca\n",
    "Phone: 647-676-1766\n",
    "\n",
    "#### Heng Kan\n",
    "Email: heng.kan@mail.utoronto.ca\n",
    "Phone: 647-871-9658\n",
    "\n",
    "#### Heng Kan\n",
    "Email: heng.kan@mail.utoronto.ca\n",
    "Phone: 647-871-9658\n",
    "\n",
    "#### Xinda Wang\n",
    "Email: xinda.wang@mail.utoronto.ca\n",
    "Phone: 647-222-7158\n",
    "\n",
    "-----\n",
    "\n",
    "# Team Contract\n",
    "* I will get my allotted work done on time.\n",
    "* I will attend every team meeting and actively participate.\n",
    "* Should an emergency arise that prevents me from attending a team meeting, I will notify my team immediately.\n",
    "* The work will be divided roughly equally among all team members.\n",
    "* I will help my team to understand every concept in the project.\n",
    "* If I do not understand a concept or code, I will immediately ask my team for help.\n",
    "* We will take terms to be the notetaker at each team meeting."
   ]
  },
  {
   "cell_type": "code",
   "execution_count": null,
   "metadata": {},
   "outputs": [],
   "source": []
  }
 ],
 "metadata": {
  "kernelspec": {
   "display_name": "Python 3",
   "language": "python",
   "name": "python3"
  },
  "language_info": {
   "codemirror_mode": {
    "name": "ipython",
    "version": 3
   },
   "file_extension": ".py",
   "mimetype": "text/x-python",
   "name": "python",
   "nbconvert_exporter": "python",
   "pygments_lexer": "ipython3",
   "version": "3.7.0"
  }
 },
 "nbformat": 4,
 "nbformat_minor": 2
}
